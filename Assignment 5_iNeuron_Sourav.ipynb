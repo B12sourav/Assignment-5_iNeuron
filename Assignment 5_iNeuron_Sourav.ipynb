{
 "cells": [
  {
   "cell_type": "markdown",
   "id": "fbc7d8d9",
   "metadata": {},
   "source": [
    "# Assignment 3 iNeuron"
   ]
  },
  {
   "cell_type": "markdown",
   "id": "f43ea875",
   "metadata": {},
   "source": [
    "1. What does an empty dictionary's code look like?"
   ]
  },
  {
   "cell_type": "markdown",
   "id": "0d214146",
   "metadata": {},
   "source": [
    "Ans: We can assign no elements in curly brackets {}."
   ]
  },
  {
   "cell_type": "markdown",
   "id": "1701cc05",
   "metadata": {},
   "source": [
    "2. What is the value of a dictionary value with the key 'foo' and the value 42?"
   ]
  },
  {
   "cell_type": "code",
   "execution_count": 1,
   "id": "bd1626bb",
   "metadata": {},
   "outputs": [
    {
     "name": "stdout",
     "output_type": "stream",
     "text": [
      "{'foo': 42}\n"
     ]
    }
   ],
   "source": [
    "d = {\"foo\" : 42 }\n",
    "print(d)"
   ]
  },
  {
   "cell_type": "markdown",
   "id": "ddf9f939",
   "metadata": {},
   "source": [
    "3. What is the most significant distinction between a dictionary and a list?"
   ]
  },
  {
   "cell_type": "markdown",
   "id": "eb0c5c37",
   "metadata": {},
   "source": [
    "Ans: In dictionary the items will be present in unordered form while in a list the items will be in ordered form."
   ]
  },
  {
   "cell_type": "markdown",
   "id": "8c840a8c",
   "metadata": {},
   "source": [
    "4. What happens if you try to access spam['foo'] if spam is {'bar': 100}?"
   ]
  },
  {
   "cell_type": "markdown",
   "id": "959c102e",
   "metadata": {},
   "source": [
    "Ans: We get a KeyError error."
   ]
  },
  {
   "cell_type": "markdown",
   "id": "4e5885bd",
   "metadata": {},
   "source": [
    "5. If a dictionary is stored in spam, what is the difference between the expressions 'cat' in spam and 'cat' in spam.keys()?"
   ]
  },
  {
   "cell_type": "markdown",
   "id": "e8159954",
   "metadata": {},
   "source": [
    " Ans: There is no difference. The in operator checks whether a value exists as a key in the dictionary."
   ]
  },
  {
   "cell_type": "markdown",
   "id": "2232228a",
   "metadata": {},
   "source": [
    "6. If a dictionary is stored in spam, what is the difference between the expressions 'cat' in spam and 'cat' in spam.values()?"
   ]
  },
  {
   "cell_type": "markdown",
   "id": "84a7b6c1",
   "metadata": {},
   "source": [
    "Ans: 'cat' in spam checks whether there is a 'cat' key in the dictionary, while 'cat' in spam.values() checks whether there is a value 'cat' for one of the keys in spam."
   ]
  },
  {
   "cell_type": "markdown",
   "id": "40148133",
   "metadata": {},
   "source": [
    "7. What is a shortcut for the following code?"
   ]
  },
  {
   "cell_type": "markdown",
   "id": "e00d183e",
   "metadata": {},
   "source": [
    "if 'color' not in spam:\n",
    "spam['color'] = 'black'\n"
   ]
  },
  {
   "cell_type": "markdown",
   "id": "7dbfd8d3",
   "metadata": {},
   "source": [
    "Ans: spam.setdefault('color', 'black')"
   ]
  },
  {
   "cell_type": "markdown",
   "id": "b12c12db",
   "metadata": {},
   "source": [
    "8. How do you \"pretty print\" dictionary values using which module and function?"
   ]
  },
  {
   "cell_type": "markdown",
   "id": "3f18d108",
   "metadata": {},
   "source": [
    "Ans: pprint.pprint()"
   ]
  }
 ],
 "metadata": {
  "kernelspec": {
   "display_name": "Python 3",
   "language": "python",
   "name": "python3"
  },
  "language_info": {
   "codemirror_mode": {
    "name": "ipython",
    "version": 3
   },
   "file_extension": ".py",
   "mimetype": "text/x-python",
   "name": "python",
   "nbconvert_exporter": "python",
   "pygments_lexer": "ipython3",
   "version": "3.8.8"
  }
 },
 "nbformat": 4,
 "nbformat_minor": 5
}
